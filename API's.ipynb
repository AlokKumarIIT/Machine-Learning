{
 "cells": [
  {
   "cell_type": "code",
   "execution_count": 2,
   "id": "5cf0e1a6-bab6-4597-8dd9-6b4ea2fdbafa",
   "metadata": {},
   "outputs": [],
   "source": [
    "import pandas as pd\n",
    "import requests"
   ]
  },
  {
   "cell_type": "markdown",
   "id": "4dce9fb2-bf2e-41d0-a51e-a9aa94a372a8",
   "metadata": {},
   "source": [
    "response = requests.get(\"url of database with api e.g tmdb top rated section\")"
   ]
  },
  {
   "cell_type": "markdown",
   "id": "c73bc959-9bf7-419d-8afd-e740d95c4b2a",
   "metadata": {},
   "source": [
    "df= pd.DataFrame(response.json()['result'])[['id','title','overview','release_date','popularity','vote_average','vote_count']]"
   ]
  },
  {
   "cell_type": "markdown",
   "id": "6c146d40-a3d8-4455-85ee-7f50c82b423c",
   "metadata": {},
   "source": [
    "for i in range(1,429):\n",
    "    response = requests.get(\"url of database with api e.g tmdb top rated section page{}.format(i)\")\n",
    "    temp_df = pd.DataFrame(response.json()['result'])[['id','title','overview','release_date','popularity','vote_average','vote_count']]\n",
    "    df = df.append(temp_df ,ignore_index=True)"
   ]
  },
  {
   "cell_type": "code",
   "execution_count": null,
   "id": "86afa970-b015-4fc1-b1c3-a8e165013dd0",
   "metadata": {},
   "outputs": [],
   "source": [
    "df.to_csv('movies.csv')"
   ]
  }
 ],
 "metadata": {
  "kernelspec": {
   "display_name": "Python 3 (ipykernel)",
   "language": "python",
   "name": "python3"
  },
  "language_info": {
   "codemirror_mode": {
    "name": "ipython",
    "version": 3
   },
   "file_extension": ".py",
   "mimetype": "text/x-python",
   "name": "python",
   "nbconvert_exporter": "python",
   "pygments_lexer": "ipython3",
   "version": "3.11.7"
  }
 },
 "nbformat": 4,
 "nbformat_minor": 5
}
