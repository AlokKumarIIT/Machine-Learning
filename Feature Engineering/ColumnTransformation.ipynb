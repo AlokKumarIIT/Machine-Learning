{
 "cells": [
  {
   "cell_type": "code",
   "execution_count": 1,
   "id": "67ea6a93-b542-4a23-b753-86428696dd78",
   "metadata": {},
   "outputs": [],
   "source": [
    "import numpy as np\n",
    "import pandas as pd"
   ]
  },
  {
   "cell_type": "code",
   "execution_count": 3,
   "id": "c48a2f28-effb-4aa8-869e-1a11c977e80d",
   "metadata": {},
   "outputs": [],
   "source": [
    "df=pd.read_csv('covid_toy.csv')"
   ]
  },
  {
   "cell_type": "code",
   "execution_count": 4,
   "id": "ec57ffa7-a31a-47f5-b0af-087fbbeea663",
   "metadata": {},
   "outputs": [
    {
     "data": {
      "text/html": [
       "<div>\n",
       "<style scoped>\n",
       "    .dataframe tbody tr th:only-of-type {\n",
       "        vertical-align: middle;\n",
       "    }\n",
       "\n",
       "    .dataframe tbody tr th {\n",
       "        vertical-align: top;\n",
       "    }\n",
       "\n",
       "    .dataframe thead th {\n",
       "        text-align: right;\n",
       "    }\n",
       "</style>\n",
       "<table border=\"1\" class=\"dataframe\">\n",
       "  <thead>\n",
       "    <tr style=\"text-align: right;\">\n",
       "      <th></th>\n",
       "      <th>age</th>\n",
       "      <th>gender</th>\n",
       "      <th>fever</th>\n",
       "      <th>cough</th>\n",
       "      <th>city</th>\n",
       "      <th>has_covid</th>\n",
       "    </tr>\n",
       "  </thead>\n",
       "  <tbody>\n",
       "    <tr>\n",
       "      <th>91</th>\n",
       "      <td>38</td>\n",
       "      <td>Male</td>\n",
       "      <td>NaN</td>\n",
       "      <td>Mild</td>\n",
       "      <td>Delhi</td>\n",
       "      <td>Yes</td>\n",
       "    </tr>\n",
       "    <tr>\n",
       "      <th>4</th>\n",
       "      <td>65</td>\n",
       "      <td>Female</td>\n",
       "      <td>101.0</td>\n",
       "      <td>Mild</td>\n",
       "      <td>Mumbai</td>\n",
       "      <td>No</td>\n",
       "    </tr>\n",
       "    <tr>\n",
       "      <th>98</th>\n",
       "      <td>5</td>\n",
       "      <td>Female</td>\n",
       "      <td>98.0</td>\n",
       "      <td>Strong</td>\n",
       "      <td>Mumbai</td>\n",
       "      <td>No</td>\n",
       "    </tr>\n",
       "    <tr>\n",
       "      <th>72</th>\n",
       "      <td>83</td>\n",
       "      <td>Female</td>\n",
       "      <td>101.0</td>\n",
       "      <td>Mild</td>\n",
       "      <td>Kolkata</td>\n",
       "      <td>No</td>\n",
       "    </tr>\n",
       "    <tr>\n",
       "      <th>53</th>\n",
       "      <td>83</td>\n",
       "      <td>Male</td>\n",
       "      <td>98.0</td>\n",
       "      <td>Mild</td>\n",
       "      <td>Delhi</td>\n",
       "      <td>Yes</td>\n",
       "    </tr>\n",
       "  </tbody>\n",
       "</table>\n",
       "</div>"
      ],
      "text/plain": [
       "    age  gender  fever   cough     city has_covid\n",
       "91   38    Male    NaN    Mild    Delhi       Yes\n",
       "4    65  Female  101.0    Mild   Mumbai        No\n",
       "98    5  Female   98.0  Strong   Mumbai        No\n",
       "72   83  Female  101.0    Mild  Kolkata        No\n",
       "53   83    Male   98.0    Mild    Delhi       Yes"
      ]
     },
     "execution_count": 4,
     "metadata": {},
     "output_type": "execute_result"
    }
   ],
   "source": [
    "df.sample(5)"
   ]
  },
  {
   "cell_type": "code",
   "execution_count": 5,
   "id": "0d6aea48-887a-4410-9816-75a447342713",
   "metadata": {},
   "outputs": [],
   "source": [
    "from sklearn.impute import SimpleImputer\n",
    "from sklearn.preprocessing import OneHotEncoder\n",
    "from sklearn.preprocessing import OrdinalEncoder"
   ]
  },
  {
   "cell_type": "code",
   "execution_count": 6,
   "id": "70c164c4-2d32-4d1a-86ba-6022a5507c6c",
   "metadata": {},
   "outputs": [],
   "source": [
    "from sklearn.model_selection import train_test_split\n",
    "X_train,X_test,y_train,y_test = train_test_split(df.drop(columns =['has_covid']),df['has_covid'],test_size=0.2,random_state=0)"
   ]
  },
  {
   "cell_type": "markdown",
   "id": "8b14e2fa-ab9d-4de9-b00d-dd3916ff098f",
   "metadata": {},
   "source": [
    "## AAM JINDGI"
   ]
  },
  {
   "cell_type": "code",
   "execution_count": 30,
   "id": "866fb333-c85c-4275-8c5a-e9c3d60c5b9e",
   "metadata": {},
   "outputs": [],
   "source": [
    "si=SimpleImputer()\n",
    "X_train_fever =si.fit_transform(X_train[['fever']])\n",
    "X_test_fever =si.fit_transform(X_test[['fever']])"
   ]
  },
  {
   "cell_type": "code",
   "execution_count": 18,
   "id": "e28866ca-653d-4e41-9f51-a5b8d8d517ef",
   "metadata": {},
   "outputs": [],
   "source": [
    "oe=OrdinalEncoder(categories =[['Mild','Strong']])\n",
    "X_train_cough = oe.fit_transform(X_train[['cough']])\n",
    "X_test_cough = oe.fit_transform(X_test[['cough']])"
   ]
  },
  {
   "cell_type": "code",
   "execution_count": 22,
   "id": "250e9cdd-e83b-4874-aa56-27badc95e6c2",
   "metadata": {},
   "outputs": [
    {
     "name": "stderr",
     "output_type": "stream",
     "text": [
      "C:\\Users\\iitia\\anaconda3\\Lib\\site-packages\\sklearn\\preprocessing\\_encoders.py:868: FutureWarning: `sparse` was renamed to `sparse_output` in version 1.2 and will be removed in 1.4. `sparse_output` is ignored unless you leave `sparse` to its default value.\n",
      "  warnings.warn(\n",
      "C:\\Users\\iitia\\anaconda3\\Lib\\site-packages\\sklearn\\preprocessing\\_encoders.py:868: FutureWarning: `sparse` was renamed to `sparse_output` in version 1.2 and will be removed in 1.4. `sparse_output` is ignored unless you leave `sparse` to its default value.\n",
      "  warnings.warn(\n"
     ]
    }
   ],
   "source": [
    "ohe=OneHotEncoder(drop= 'first',sparse =False)\n",
    "X_train_gender_city =ohe.fit_transform(X_train[['gender','city']])\n",
    "X_test_gender_city =ohe.fit_transform(X_test[['gender','city']])\n"
   ]
  },
  {
   "cell_type": "code",
   "execution_count": 26,
   "id": "4e3b5a52-df67-4d8c-96e1-8096a14081bb",
   "metadata": {},
   "outputs": [],
   "source": [
    "X_train_age= X_train.drop(columns =['gender','fever','cough','city']).values\n",
    "X_test_age= X_test.drop(columns =['gender','fever','cough','city']).values"
   ]
  },
  {
   "cell_type": "code",
   "execution_count": 31,
   "id": "ee0482c5-f51c-48c6-a1f9-cbfdb0909e65",
   "metadata": {},
   "outputs": [],
   "source": [
    "X_train_transformed =np.concatenate((X_train_age,X_train_gender_city,X_train_fever,X_train_cough),axis=1)\n",
    "X_test_transformed =np.concatenate((X_test_age,X_test_gender_city,X_test_fever,X_test_cough),axis=1)"
   ]
  },
  {
   "cell_type": "code",
   "execution_count": 33,
   "id": "e297525d-7591-492a-9c4c-498dbf9f115b",
   "metadata": {},
   "outputs": [
    {
     "data": {
      "text/plain": [
       "(80, 7)"
      ]
     },
     "execution_count": 33,
     "metadata": {},
     "output_type": "execute_result"
    }
   ],
   "source": [
    "X_train_transformed.shape"
   ]
  },
  {
   "cell_type": "markdown",
   "id": "d71c3265-e7b4-4242-bc59-248f681ecbca",
   "metadata": {},
   "source": [
    "## MENTOS JINDGI"
   ]
  },
  {
   "cell_type": "code",
   "execution_count": 35,
   "id": "f18d1552-5dfb-4e82-8dbc-db9d25a69fc6",
   "metadata": {},
   "outputs": [],
   "source": [
    "from sklearn.compose import ColumnTransformer"
   ]
  },
  {
   "cell_type": "code",
   "execution_count": 37,
   "id": "e98169be-7360-473c-a045-f49a1d764d14",
   "metadata": {},
   "outputs": [],
   "source": [
    "transformer = ColumnTransformer(transformers =[\n",
    "        ('tnf1',SimpleImputer(),['fever']),\n",
    "        ('tnf2',OrdinalEncoder(categories=[['Mild','Strong']]),['cough']),\n",
    "        ('tnf3',OneHotEncoder(sparse=False,drop ='first'),['gender','city'])],remainder='passthrough')"
   ]
  },
  {
   "cell_type": "code",
   "execution_count": 40,
   "id": "8b4a3923-128a-42ab-ba62-2c1fcd7aeef4",
   "metadata": {},
   "outputs": [
    {
     "name": "stderr",
     "output_type": "stream",
     "text": [
      "C:\\Users\\iitia\\anaconda3\\Lib\\site-packages\\sklearn\\preprocessing\\_encoders.py:868: FutureWarning: `sparse` was renamed to `sparse_output` in version 1.2 and will be removed in 1.4. `sparse_output` is ignored unless you leave `sparse` to its default value.\n",
      "  warnings.warn(\n"
     ]
    },
    {
     "data": {
      "text/plain": [
       "array([[ 99.        ,   0.        ,   0.        ,   0.        ,\n",
       "          0.        ,   0.        ,  22.        ],\n",
       "       [104.        ,   1.        ,   0.        ,   0.        ,\n",
       "          0.        ,   0.        ,  56.        ],\n",
       "       [ 98.        ,   0.        ,   0.        ,   0.        ,\n",
       "          1.        ,   0.        ,  31.        ],\n",
       "       [104.        ,   1.        ,   0.        ,   1.        ,\n",
       "          0.        ,   0.        ,  75.        ],\n",
       "       [ 99.        ,   0.        ,   1.        ,   0.        ,\n",
       "          0.        ,   0.        ,  72.        ],\n",
       "       [ 99.        ,   1.        ,   1.        ,   0.        ,\n",
       "          0.        ,   0.        ,  66.        ],\n",
       "       [101.        ,   1.        ,   1.        ,   0.        ,\n",
       "          0.        ,   0.        ,  14.        ],\n",
       "       [ 98.        ,   1.        ,   0.        ,   0.        ,\n",
       "          1.        ,   0.        ,  10.        ],\n",
       "       [ 98.        ,   0.        ,   1.        ,   0.        ,\n",
       "          1.        ,   0.        ,  24.        ],\n",
       "       [100.        ,   0.        ,   1.        ,   0.        ,\n",
       "          0.        ,   0.        ,  80.        ],\n",
       "       [102.        ,   1.        ,   0.        ,   0.        ,\n",
       "          0.        ,   0.        ,  24.        ],\n",
       "       [ 99.        ,   0.        ,   0.        ,   0.        ,\n",
       "          0.        ,   1.        ,  14.        ],\n",
       "       [ 99.        ,   1.        ,   0.        ,   1.        ,\n",
       "          0.        ,   0.        ,  59.        ],\n",
       "       [104.        ,   1.        ,   0.        ,   0.        ,\n",
       "          1.        ,   0.        ,  54.        ],\n",
       "       [100.        ,   1.        ,   0.        ,   0.        ,\n",
       "          1.        ,   0.        ,  11.        ],\n",
       "       [102.        ,   1.        ,   0.        ,   1.        ,\n",
       "          0.        ,   0.        ,  33.        ],\n",
       "       [ 98.        ,   0.        ,   0.        ,   0.        ,\n",
       "          0.        ,   0.        ,  64.        ],\n",
       "       [100.91549296,   1.        ,   1.        ,   0.        ,\n",
       "          1.        ,   0.        ,  71.        ],\n",
       "       [100.        ,   0.        ,   1.        ,   0.        ,\n",
       "          0.        ,   0.        ,  10.        ],\n",
       "       [104.        ,   1.        ,   0.        ,   1.        ,\n",
       "          0.        ,   0.        ,  34.        ],\n",
       "       [100.        ,   0.        ,   1.        ,   1.        ,\n",
       "          0.        ,   0.        ,  27.        ],\n",
       "       [ 98.        ,   1.        ,   0.        ,   0.        ,\n",
       "          0.        ,   1.        ,  81.        ],\n",
       "       [100.        ,   0.        ,   1.        ,   1.        ,\n",
       "          0.        ,   0.        ,  27.        ],\n",
       "       [100.91549296,   0.        ,   1.        ,   0.        ,\n",
       "          1.        ,   0.        ,  82.        ],\n",
       "       [101.        ,   0.        ,   0.        ,   0.        ,\n",
       "          0.        ,   1.        ,  65.        ],\n",
       "       [103.        ,   1.        ,   1.        ,   0.        ,\n",
       "          1.        ,   0.        ,  70.        ],\n",
       "       [ 98.        ,   1.        ,   0.        ,   1.        ,\n",
       "          0.        ,   0.        ,  40.        ],\n",
       "       [102.        ,   0.        ,   0.        ,   1.        ,\n",
       "          0.        ,   0.        ,  49.        ],\n",
       "       [101.        ,   0.        ,   0.        ,   1.        ,\n",
       "          0.        ,   0.        ,  49.        ],\n",
       "       [100.91549296,   0.        ,   0.        ,   0.        ,\n",
       "          0.        ,   0.        ,  84.        ],\n",
       "       [100.91549296,   0.        ,   1.        ,   1.        ,\n",
       "          0.        ,   0.        ,  38.        ],\n",
       "       [104.        ,   0.        ,   0.        ,   0.        ,\n",
       "          1.        ,   0.        ,   6.        ],\n",
       "       [103.        ,   0.        ,   1.        ,   0.        ,\n",
       "          1.        ,   0.        ,  60.        ],\n",
       "       [102.        ,   0.        ,   1.        ,   0.        ,\n",
       "          0.        ,   1.        ,  74.        ],\n",
       "       [104.        ,   0.        ,   1.        ,   0.        ,\n",
       "          1.        ,   0.        ,  16.        ],\n",
       "       [101.        ,   0.        ,   1.        ,   1.        ,\n",
       "          0.        ,   0.        ,  19.        ],\n",
       "       [ 98.        ,   0.        ,   0.        ,   0.        ,\n",
       "          0.        ,   1.        ,  65.        ],\n",
       "       [102.        ,   1.        ,   0.        ,   0.        ,\n",
       "          0.        ,   0.        ,  82.        ],\n",
       "       [ 98.        ,   0.        ,   0.        ,   1.        ,\n",
       "          0.        ,   0.        ,  80.        ],\n",
       "       [100.        ,   1.        ,   0.        ,   0.        ,\n",
       "          0.        ,   0.        ,  47.        ],\n",
       "       [100.91549296,   0.        ,   0.        ,   1.        ,\n",
       "          0.        ,   0.        ,  75.        ],\n",
       "       [103.        ,   0.        ,   1.        ,   0.        ,\n",
       "          1.        ,   0.        ,  83.        ],\n",
       "       [104.        ,   0.        ,   1.        ,   0.        ,\n",
       "          1.        ,   0.        ,  51.        ],\n",
       "       [ 99.        ,   1.        ,   0.        ,   0.        ,\n",
       "          0.        ,   0.        ,  49.        ],\n",
       "       [103.        ,   0.        ,   0.        ,   0.        ,\n",
       "          1.        ,   0.        ,  48.        ],\n",
       "       [103.        ,   0.        ,   0.        ,   0.        ,\n",
       "          0.        ,   0.        ,  16.        ],\n",
       "       [101.        ,   1.        ,   0.        ,   1.        ,\n",
       "          0.        ,   0.        ,  34.        ],\n",
       "       [ 98.        ,   1.        ,   0.        ,   0.        ,\n",
       "          0.        ,   1.        ,  69.        ],\n",
       "       [104.        ,   0.        ,   1.        ,   0.        ,\n",
       "          0.        ,   0.        ,  51.        ],\n",
       "       [103.        ,   1.        ,   1.        ,   0.        ,\n",
       "          0.        ,   0.        ,  46.        ],\n",
       "       [100.91549296,   1.        ,   0.        ,   0.        ,\n",
       "          0.        ,   0.        ,  42.        ],\n",
       "       [100.91549296,   1.        ,   0.        ,   0.        ,\n",
       "          0.        ,   1.        ,  34.        ],\n",
       "       [104.        ,   0.        ,   1.        ,   0.        ,\n",
       "          0.        ,   1.        ,  44.        ],\n",
       "       [101.        ,   0.        ,   0.        ,   0.        ,\n",
       "          0.        ,   0.        ,  20.        ],\n",
       "       [ 98.        ,   1.        ,   0.        ,   0.        ,\n",
       "          0.        ,   1.        ,   5.        ],\n",
       "       [103.        ,   0.        ,   0.        ,   1.        ,\n",
       "          0.        ,   0.        ,  73.        ],\n",
       "       [ 98.        ,   1.        ,   1.        ,   0.        ,\n",
       "          0.        ,   0.        ,  12.        ],\n",
       "       [100.91549296,   1.        ,   1.        ,   0.        ,\n",
       "          1.        ,   0.        ,  79.        ],\n",
       "       [101.        ,   0.        ,   0.        ,   0.        ,\n",
       "          1.        ,   0.        ,  83.        ],\n",
       "       [101.        ,   0.        ,   0.        ,   0.        ,\n",
       "          1.        ,   0.        ,   8.        ],\n",
       "       [100.91549296,   0.        ,   1.        ,   0.        ,\n",
       "          0.        ,   1.        ,  23.        ],\n",
       "       [100.        ,   0.        ,   1.        ,   0.        ,\n",
       "          1.        ,   0.        ,  55.        ],\n",
       "       [ 99.        ,   0.        ,   1.        ,   1.        ,\n",
       "          0.        ,   0.        ,  65.        ],\n",
       "       [101.        ,   0.        ,   0.        ,   0.        ,\n",
       "          0.        ,   1.        ,  19.        ],\n",
       "       [103.        ,   0.        ,   0.        ,   0.        ,\n",
       "          1.        ,   0.        ,  50.        ],\n",
       "       [102.        ,   0.        ,   0.        ,   0.        ,\n",
       "          0.        ,   0.        ,  69.        ],\n",
       "       [ 98.        ,   1.        ,   1.        ,   0.        ,\n",
       "          0.        ,   1.        ,  23.        ],\n",
       "       [ 99.        ,   1.        ,   0.        ,   0.        ,\n",
       "          1.        ,   0.        ,  25.        ],\n",
       "       [100.        ,   0.        ,   0.        ,   0.        ,\n",
       "          1.        ,   0.        ,   5.        ],\n",
       "       [101.        ,   1.        ,   0.        ,   1.        ,\n",
       "          0.        ,   0.        ,  68.        ],\n",
       "       [101.        ,   1.        ,   1.        ,   0.        ,\n",
       "          0.        ,   0.        ,  47.        ],\n",
       "       [101.        ,   0.        ,   0.        ,   0.        ,\n",
       "          0.        ,   0.        ,  38.        ],\n",
       "       [ 98.        ,   0.        ,   1.        ,   0.        ,\n",
       "          0.        ,   0.        ,  73.        ],\n",
       "       [104.        ,   0.        ,   0.        ,   0.        ,\n",
       "          1.        ,   0.        ,  17.        ],\n",
       "       [101.        ,   0.        ,   0.        ,   1.        ,\n",
       "          0.        ,   0.        ,  64.        ],\n",
       "       [101.        ,   1.        ,   0.        ,   0.        ,\n",
       "          1.        ,   0.        ,  51.        ],\n",
       "       [ 99.        ,   0.        ,   1.        ,   0.        ,\n",
       "          0.        ,   0.        ,  65.        ],\n",
       "       [104.        ,   0.        ,   1.        ,   0.        ,\n",
       "          0.        ,   1.        ,  42.        ],\n",
       "       [104.        ,   0.        ,   0.        ,   0.        ,\n",
       "          0.        ,   0.        ,  18.        ],\n",
       "       [102.        ,   1.        ,   1.        ,   1.        ,\n",
       "          0.        ,   0.        ,  20.        ]])"
      ]
     },
     "execution_count": 40,
     "metadata": {},
     "output_type": "execute_result"
    }
   ],
   "source": [
    "transformer.fit_transform(X_train)"
   ]
  },
  {
   "cell_type": "code",
   "execution_count": 41,
   "id": "b6debd80-0d47-4802-99ff-7e05b8089a93",
   "metadata": {},
   "outputs": [
    {
     "data": {
      "text/plain": [
       "array([[100.        ,   0.        ,   0.        ,   0.        ,\n",
       "          1.        ,   0.        ,  19.        ],\n",
       "       [104.        ,   0.        ,   1.        ,   0.        ,\n",
       "          0.        ,   0.        ,  25.        ],\n",
       "       [101.        ,   0.        ,   1.        ,   1.        ,\n",
       "          0.        ,   0.        ,  42.        ],\n",
       "       [101.        ,   0.        ,   0.        ,   0.        ,\n",
       "          0.        ,   1.        ,  81.        ],\n",
       "       [102.        ,   0.        ,   1.        ,   0.        ,\n",
       "          1.        ,   0.        ,   5.        ],\n",
       "       [100.        ,   0.        ,   1.        ,   0.        ,\n",
       "          1.        ,   0.        ,  27.        ],\n",
       "       [103.        ,   0.        ,   0.        ,   0.        ,\n",
       "          1.        ,   0.        ,  69.        ],\n",
       "       [ 98.        ,   1.        ,   1.        ,   0.        ,\n",
       "          1.        ,   0.        ,  34.        ],\n",
       "       [ 99.        ,   0.        ,   0.        ,   0.        ,\n",
       "          0.        ,   1.        ,  60.        ],\n",
       "       [104.        ,   0.        ,   0.        ,   0.        ,\n",
       "          0.        ,   0.        ,  12.        ],\n",
       "       [ 98.        ,   0.        ,   1.        ,   1.        ,\n",
       "          0.        ,   0.        ,  83.        ],\n",
       "       [102.        ,   1.        ,   0.        ,   0.        ,\n",
       "          1.        ,   0.        ,  82.        ],\n",
       "       [100.        ,   0.        ,   1.        ,   0.        ,\n",
       "          0.        ,   0.        ,  11.        ],\n",
       "       [102.        ,   0.        ,   1.        ,   0.        ,\n",
       "          0.        ,   0.        ,  64.        ],\n",
       "       [100.91549296,   1.        ,   0.        ,   0.        ,\n",
       "          0.        ,   1.        ,  20.        ],\n",
       "       [101.        ,   0.        ,   1.        ,   1.        ,\n",
       "          0.        ,   0.        ,  15.        ],\n",
       "       [ 98.        ,   1.        ,   0.        ,   0.        ,\n",
       "          1.        ,   0.        ,  71.        ],\n",
       "       [100.        ,   1.        ,   0.        ,   0.        ,\n",
       "          1.        ,   0.        ,  13.        ],\n",
       "       [ 98.        ,   0.        ,   0.        ,   0.        ,\n",
       "          1.        ,   0.        ,  26.        ],\n",
       "       [100.        ,   1.        ,   0.        ,   0.        ,\n",
       "          0.        ,   0.        ,  19.        ]])"
      ]
     },
     "execution_count": 41,
     "metadata": {},
     "output_type": "execute_result"
    }
   ],
   "source": [
    "transformer.transform(X_test)"
   ]
  },
  {
   "cell_type": "code",
   "execution_count": null,
   "id": "ec86cd1d-e448-4a71-ac33-3e5995061ba0",
   "metadata": {},
   "outputs": [],
   "source": []
  }
 ],
 "metadata": {
  "kernelspec": {
   "display_name": "Python 3 (ipykernel)",
   "language": "python",
   "name": "python3"
  },
  "language_info": {
   "codemirror_mode": {
    "name": "ipython",
    "version": 3
   },
   "file_extension": ".py",
   "mimetype": "text/x-python",
   "name": "python",
   "nbconvert_exporter": "python",
   "pygments_lexer": "ipython3",
   "version": "3.11.7"
  }
 },
 "nbformat": 4,
 "nbformat_minor": 5
}
